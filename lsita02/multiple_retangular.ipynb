{
 "cells": [
  {
   "cell_type": "code",
   "execution_count": null,
   "id": "1a4843b1",
   "metadata": {},
   "outputs": [],
   "source": [
    "import numpy as np\n",
    "import matplotlib.pyplot as plt\n",
    "import matplotlib.cm as cm\n",
    "from tqdm import tqdm # Importe tqdm se ainda não estiver importado"
   ]
  },
  {
   "cell_type": "code",
   "execution_count": null,
   "id": "18dc6928",
   "metadata": {},
   "outputs": [],
   "source": [
    "# --- Parâmetros da placa e condições de contorno (mantidos do seu código) ---\n",
    "a_val = 1.0  # Comprimento da placa (m)\n",
    "b_val = 1.0  # Largura da placa (m)\n",
    "T1_val = 24.0  # Temperatura T1 (°C)\n",
    "N_terms = 50  # Número de termos na série"
   ]
  },
  {
   "cell_type": "code",
   "execution_count": null,
   "id": "2afe52b1",
   "metadata": {},
   "outputs": [],
   "source": [
    "# Criação da malha (grid) para x e y (mantida do seu código)\n",
    "x_points = np.linspace(0, a_val, 100) # Reduzido para 100 pontos para agilizar a visualização em múltiplos plots\n",
    "y_points = np.linspace(0, b_val, 100) # Reduzido para 100 pontos para agilizar a visualização em múltiplos plots\n",
    "X_grid, Y_grid = np.meshgrid(x_points, y_points)"
   ]
  },
  {
   "cell_type": "code",
   "execution_count": null,
   "id": "d1f797a8",
   "metadata": {},
   "outputs": [],
   "source": [
    "# --- Valores de A para testar ---\n",
    "valores_A = [10, 25, 50, 100, 200, 500]\n",
    "\n",
    "# --- Configuração dos subplots ---\n",
    "n_plots = len(valores_A)\n",
    "n_cols = 3  # Exibe 3 gráficos por linha\n",
    "n_rows = (n_plots + n_cols - 1) // n_cols # Calcula o número de linhas necessário\n",
    "\n",
    "fig, axes = plt.subplots(n_rows, n_cols, figsize=(n_cols * 6, n_rows * 5)) # Ajuste o figsize\n",
    "axes = axes.flatten() # Achata a matriz de axes para facilitar a iteração\n",
    "\n",
    "# Loop sobre cada valor de A\n",
    "for i, A_current_val in enumerate(valores_A):\n",
    "    print(f\"Calculando distribuição para A = {A_current_val}°C/m\")\n",
    "\n",
    "    # Inicializa a matriz de temperatura com T1\n",
    "    T_series_sum = np.zeros(X_grid.shape)\n",
    "\n",
    "    # Cálculo da soma da série (adaptação do seu loop original)\n",
    "    # Usamos A_current_val no lugar de A_val\n",
    "    for n in tqdm(range(1, N_terms + 1), leave=False):\n",
    "        term_Aa_factor = A_current_val * a_val * ((-1)**(n + 1))\n",
    "        term_T1_factor = T1_val * (1 - ((-1)**n))\n",
    "\n",
    "        numerator_factor_for_Bn = term_Aa_factor - term_T1_factor\n",
    "\n",
    "        common_arg_factor = n * np.pi / a_val\n",
    "        sinh_denominator_term = np.sinh(common_arg_factor * b_val)\n",
    "\n",
    "        if sinh_denominator_term == 0:\n",
    "            Bn = 0.0\n",
    "        else:\n",
    "            Bn = (2 * numerator_factor_for_Bn) / (n * np.pi * sinh_denominator_term)\n",
    "\n",
    "        sin_term = np.sin(common_arg_factor * X_grid)\n",
    "        sinh_term_grid = np.sinh(common_arg_factor * Y_grid)\n",
    "\n",
    "        T_series_sum += Bn * sin_term * sinh_term_grid\n",
    "\n",
    "    T_grid = T1_val + T_series_sum\n",
    "\n",
    "    # --- Plotagem do resultado para o A_current_val ---\n",
    "    ax = axes[i]\n",
    "    contour = ax.contourf(X_grid, Y_grid, T_grid, levels=50, cmap=cm.jet) # Usando cm.jet como no seu original\n",
    "    fig.colorbar(contour, ax=ax, label='Temperatura (°C)')\n",
    "    ax.set_title(f'A = {A_current_val}°C/m')\n",
    "    ax.set_xlabel('x (m)')\n",
    "    ax.set_ylabel('y (m)')\n",
    "    ax.set_aspect('equal', adjustable='box')\n",
    "    ax.grid(True, linestyle='--', alpha=0.6)"
   ]
  },
  {
   "cell_type": "code",
   "execution_count": null,
   "id": "3a5f3b9e",
   "metadata": {},
   "outputs": [],
   "source": [
    "# Remove subplots vazios, se houver\n",
    "for j in range(i + 1, len(axes)):\n",
    "    fig.delaxes(axes[j])\n",
    "\n",
    "plt.tight_layout() # Ajusta o layout para evitar sobreposição\n",
    "plt.suptitle('Distribuição de Temperatura T(x,y) para diferentes valores de A', y=1.02, fontsize=16) # Título geral\n",
    "plt.show()"
   ]
  }
 ],
 "metadata": {
  "kernelspec": {
   "display_name": "venv",
   "language": "python",
   "name": "python3"
  },
  "language_info": {
   "name": "python",
   "version": "3.8.10"
  }
 },
 "nbformat": 4,
 "nbformat_minor": 5
}
